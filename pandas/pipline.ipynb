{
 "cells": [
  {
   "cell_type": "code",
   "execution_count": 1,
   "metadata": {},
   "outputs": [
    {
     "ename": "TypeError",
     "evalue": "Too many parameters for typing.List; actual 2, expected 1",
     "output_type": "error",
     "traceback": [
      "\u001b[0;31m---------------------------------------------------------------------------\u001b[0m",
      "\u001b[0;31mTypeError\u001b[0m                                 Traceback (most recent call last)",
      "Cell \u001b[0;32mIn[1], line 14\u001b[0m\n\u001b[1;32m     11\u001b[0m \u001b[39mimport\u001b[39;00m \u001b[39msys\u001b[39;00m\n\u001b[1;32m     12\u001b[0m sys\u001b[39m.\u001b[39mpath\u001b[39m.\u001b[39mappend(\u001b[39m\"\u001b[39m\u001b[39m./\u001b[39m\u001b[39m\"\u001b[39m)\n\u001b[0;32m---> 14\u001b[0m \u001b[39mfrom\u001b[39;00m \u001b[39mmodule\u001b[39;00m\u001b[39m.\u001b[39;00m\u001b[39mpipeline\u001b[39;00m \u001b[39mimport\u001b[39;00m grid_search_cv\n\u001b[1;32m     15\u001b[0m \u001b[39mfrom\u001b[39;00m \u001b[39mmodule\u001b[39;00m\u001b[39m.\u001b[39;00m\u001b[39mfeatures\u001b[39;00m \u001b[39mimport\u001b[39;00m pipe_1, pipe_2, pipe_3, pipe_4, pipe_5, pipe_6, pipe_7,\\\n\u001b[1;32m     16\u001b[0m                      pipe_8, pipe_9, pipe_10, pipe_11, pipe_12, pipe_13, pipe_14,\\\n\u001b[1;32m     17\u001b[0m                      pipe_15\n",
      "File \u001b[0;32m~/Desktop/Git/MyTool/pandas/module/pipeline.py:14\u001b[0m\n\u001b[1;32m      9\u001b[0m \u001b[39mfrom\u001b[39;00m \u001b[39msklearn\u001b[39;00m\u001b[39m.\u001b[39;00m\u001b[39mmodel_selection\u001b[39;00m \u001b[39mimport\u001b[39;00m GridSearchCV\n\u001b[1;32m     10\u001b[0m \u001b[39mfrom\u001b[39;00m \u001b[39msklearn\u001b[39;00m\u001b[39m.\u001b[39;00m\u001b[39mmetrics\u001b[39;00m \u001b[39mimport\u001b[39;00m accuracy_score, precision_score, \\\n\u001b[1;32m     11\u001b[0m                             recall_score, f1_score\n\u001b[0;32m---> 14\u001b[0m \u001b[39mclass\u001b[39;00m \u001b[39mPipeLine\u001b[39;00m(\u001b[39mobject\u001b[39m):\n\u001b[1;32m     16\u001b[0m     \u001b[39mdef\u001b[39;00m \u001b[39m__init__\u001b[39m(\u001b[39mself\u001b[39m, train_flg\u001b[39m=\u001b[39m\u001b[39mTrue\u001b[39;00m):\n\u001b[1;32m     17\u001b[0m         \u001b[39m\"\"\"\u001b[39;00m\n\u001b[1;32m     18\u001b[0m \u001b[39m        アトリビュートで訓練データ、正解データを管理する\u001b[39;00m\n\u001b[1;32m     19\u001b[0m \u001b[39m        （引数）\u001b[39;00m\n\u001b[1;32m     20\u001b[0m \u001b[39m        train_flg: 訓練時と推論時を識別するフラグ\u001b[39;00m\n\u001b[1;32m     21\u001b[0m \u001b[39m        \"\"\"\u001b[39;00m\n",
      "File \u001b[0;32m~/Desktop/Git/MyTool/pandas/module/pipeline.py:116\u001b[0m, in \u001b[0;36mPipeLine\u001b[0;34m()\u001b[0m\n\u001b[1;32m    109\u001b[0m         \u001b[39mprint\u001b[39m(\u001b[39mf\u001b[39m\u001b[39m'\u001b[39m\u001b[39my_train: \u001b[39m\u001b[39m{\u001b[39;00my_tr\u001b[39m.\u001b[39mshape\u001b[39m}\u001b[39;00m\u001b[39m y_test: \u001b[39m\u001b[39m{\u001b[39;00my_te\u001b[39m.\u001b[39mshape\u001b[39m}\u001b[39;00m\u001b[39m'\u001b[39m)\n\u001b[1;32m    110\u001b[0m     \u001b[39mreturn\u001b[39;00m x_tr, x_te, y_tr, y_te\n\u001b[1;32m    112\u001b[0m \u001b[39mdef\u001b[39;00m \u001b[39mk_fold\u001b[39m(\n\u001b[1;32m    113\u001b[0m             \u001b[39mself\u001b[39m,\n\u001b[1;32m    114\u001b[0m             n_splits\u001b[39m=\u001b[39m\u001b[39m5\u001b[39m,\n\u001b[1;32m    115\u001b[0m             to_array\u001b[39m=\u001b[39m\u001b[39mTrue\u001b[39;00m\n\u001b[0;32m--> 116\u001b[0m             ) \u001b[39m-\u001b[39m\u001b[39m>\u001b[39m List[List[np\u001b[39m.\u001b[39;49mndarray, np\u001b[39m.\u001b[39;49mndarray]]:\n\u001b[1;32m    117\u001b[0m     \u001b[39m\"\"\"\u001b[39;00m\n\u001b[1;32m    118\u001b[0m \u001b[39m    交差検証用のデータセットを出力。[[訓練データ, 正解データ]*分割数]\u001b[39;00m\n\u001b[1;32m    119\u001b[0m \u001b[39m    （引数）\u001b[39;00m\n\u001b[1;32m    120\u001b[0m \u001b[39m    n_split: 検証データの分割数\u001b[39;00m\n\u001b[1;32m    121\u001b[0m \u001b[39m    to_array: DataFrameかndarrayで出力するかを変更\u001b[39;00m\n\u001b[1;32m    122\u001b[0m \u001b[39m    \"\"\"\u001b[39;00m\n\u001b[1;32m    123\u001b[0m     kf \u001b[39m=\u001b[39m KFold(\n\u001b[1;32m    124\u001b[0m                 n_splits\u001b[39m=\u001b[39mn_splits,\n\u001b[1;32m    125\u001b[0m                 shuffle\u001b[39m=\u001b[39m\u001b[39mTrue\u001b[39;00m,\n\u001b[1;32m    126\u001b[0m                 random_state\u001b[39m=\u001b[39m\u001b[39mself\u001b[39m\u001b[39m.\u001b[39mrandom_seed\n\u001b[1;32m    127\u001b[0m                 )\n",
      "File \u001b[0;32m~/opt/anaconda3/envs/practice2/lib/python3.9/typing.py:275\u001b[0m, in \u001b[0;36m_tp_cache.<locals>.decorator.<locals>.inner\u001b[0;34m(*args, **kwds)\u001b[0m\n\u001b[1;32m    273\u001b[0m \u001b[39mexcept\u001b[39;00m \u001b[39mTypeError\u001b[39;00m:\n\u001b[1;32m    274\u001b[0m     \u001b[39mpass\u001b[39;00m  \u001b[39m# All real errors (not unhashable args) are raised below.\u001b[39;00m\n\u001b[0;32m--> 275\u001b[0m \u001b[39mreturn\u001b[39;00m func(\u001b[39m*\u001b[39;49margs, \u001b[39m*\u001b[39;49m\u001b[39m*\u001b[39;49mkwds)\n",
      "File \u001b[0;32m~/opt/anaconda3/envs/practice2/lib/python3.9/typing.py:833\u001b[0m, in \u001b[0;36m_SpecialGenericAlias.__getitem__\u001b[0;34m(self, params)\u001b[0m\n\u001b[1;32m    831\u001b[0m msg \u001b[39m=\u001b[39m \u001b[39m\"\u001b[39m\u001b[39mParameters to generic types must be types.\u001b[39m\u001b[39m\"\u001b[39m\n\u001b[1;32m    832\u001b[0m params \u001b[39m=\u001b[39m \u001b[39mtuple\u001b[39m(_type_check(p, msg) \u001b[39mfor\u001b[39;00m p \u001b[39min\u001b[39;00m params)\n\u001b[0;32m--> 833\u001b[0m _check_generic(\u001b[39mself\u001b[39;49m, params, \u001b[39mself\u001b[39;49m\u001b[39m.\u001b[39;49m_nparams)\n\u001b[1;32m    834\u001b[0m \u001b[39mreturn\u001b[39;00m \u001b[39mself\u001b[39m\u001b[39m.\u001b[39mcopy_with(params)\n",
      "File \u001b[0;32m~/opt/anaconda3/envs/practice2/lib/python3.9/site-packages/typing_extensions.py:106\u001b[0m, in \u001b[0;36m_check_generic\u001b[0;34m(cls, parameters, elen)\u001b[0m\n\u001b[1;32m    104\u001b[0m     \u001b[39mif\u001b[39;00m (num_tv_tuples \u001b[39m>\u001b[39m \u001b[39m0\u001b[39m) \u001b[39mand\u001b[39;00m (alen \u001b[39m>\u001b[39m\u001b[39m=\u001b[39m elen \u001b[39m-\u001b[39m num_tv_tuples):\n\u001b[1;32m    105\u001b[0m         \u001b[39mreturn\u001b[39;00m\n\u001b[0;32m--> 106\u001b[0m \u001b[39mraise\u001b[39;00m \u001b[39mTypeError\u001b[39;00m(\u001b[39mf\u001b[39m\u001b[39m\"\u001b[39m\u001b[39mToo \u001b[39m\u001b[39m{\u001b[39;00m\u001b[39m'\u001b[39m\u001b[39mmany\u001b[39m\u001b[39m'\u001b[39m \u001b[39mif\u001b[39;00m alen \u001b[39m>\u001b[39m elen \u001b[39melse\u001b[39;00m \u001b[39m'\u001b[39m\u001b[39mfew\u001b[39m\u001b[39m'\u001b[39m\u001b[39m}\u001b[39;00m\u001b[39m parameters for \u001b[39m\u001b[39m{\u001b[39;00m\u001b[39mcls\u001b[39m\u001b[39m}\u001b[39;00m\u001b[39m;\u001b[39m\u001b[39m\"\u001b[39m\n\u001b[1;32m    107\u001b[0m                 \u001b[39mf\u001b[39m\u001b[39m\"\u001b[39m\u001b[39m actual \u001b[39m\u001b[39m{\u001b[39;00malen\u001b[39m}\u001b[39;00m\u001b[39m, expected \u001b[39m\u001b[39m{\u001b[39;00melen\u001b[39m}\u001b[39;00m\u001b[39m\"\u001b[39m)\n",
      "\u001b[0;31mTypeError\u001b[0m: Too many parameters for typing.List; actual 2, expected 1"
     ]
    }
   ],
   "source": [
    "import pickle\n",
    "from pathlib import Path\n",
    "import sys\n",
    "\n",
    "import pandas as pd\n",
    "from sklearn.svm import SVC\n",
    "from xgboost import XGBClassifier\n",
    "from sklearn.tree import DecisionTreeClassifier\n",
    "from sklearn.neighbors import KNeighborsClassifier\n",
    "\n",
    "import sys\n",
    "sys.path.append(\"./\")\n",
    "\n",
    "from module.pipeline import grid_search_cv\n",
    "from module.features import pipe_1, pipe_2, pipe_3, pipe_4, pipe_5, pipe_6, pipe_7,\\\n",
    "                     pipe_8, pipe_9, pipe_10, pipe_11, pipe_12, pipe_13, pipe_14,\\\n",
    "                     pipe_15\n"
   ]
  },
  {
   "cell_type": "code",
   "execution_count": null,
   "metadata": {},
   "outputs": [],
   "source": [
    "df = pd.read_csv('./data/train.csv')\n",
    "df = df.loc[:550, :]\n",
    "to_pipe ={\n",
    "            'df': df,\n",
    "            'split_kwrg': {'test_size': 0.2, 'to_array': True},\n",
    "            'train_flg': True,\n",
    "            'retrain': False,\n",
    "            }\n",
    "# 特徴量候補を設定\n",
    "pipe_lines = [\n",
    "            pipe_1,  # base \n",
    "            # pipe_2,  # StSlopeCat\n",
    "            # pipe_3,  # CholsetMean\n",
    "            # pipe_4,  # AgeCat\n",
    "            # pipe_5,  # StSlopeCat CholetMean AgeCat\n",
    "            # pipe_6,  # RestingBpCat\n",
    "            # pipe_7,  # OldPeakCat\n",
    "            # pipe_8,  # RestingBpCat OldPeakCat\n",
    "            pipe_9,  # Onehot\n",
    "            pipe_10,  # CholestMean AgeCat Onehot\n",
    "            pipe_11,  # CholCut\n",
    "            pipe_12,  # CholCut Onehot,\n",
    "            pipe_13,  # DropByShap\n",
    "            pipe_14,  # CholCatDropBy,\n",
    "            pipe_15  # CholRegression\n",
    "            ]\n",
    "data_set = {pipe.__name__: pipe(**to_pipe) for pipe in pipe_lines}"
   ]
  }
 ],
 "metadata": {
  "kernelspec": {
   "display_name": "practice2",
   "language": "python",
   "name": "python3"
  },
  "language_info": {
   "codemirror_mode": {
    "name": "ipython",
    "version": 3
   },
   "file_extension": ".py",
   "mimetype": "text/x-python",
   "name": "python",
   "nbconvert_exporter": "python",
   "pygments_lexer": "ipython3",
   "version": "3.9.7"
  },
  "orig_nbformat": 4,
  "vscode": {
   "interpreter": {
    "hash": "c7b63737d34f860a632a8143e822850a892e75196c8e7207c138f17d21e5a1d3"
   }
  }
 },
 "nbformat": 4,
 "nbformat_minor": 2
}
