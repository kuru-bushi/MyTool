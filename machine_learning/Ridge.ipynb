{
 "cells": [
  {
   "cell_type": "code",
   "execution_count": 8,
   "metadata": {},
   "outputs": [],
   "source": [
    "import numpy as np\n",
    "import pandas as pd\n",
    "import matplotlib.pyplot as plt\n",
    "from sklearn.preprocessing import StandardScaler\n",
    "from sklearn.linear_model import Ridge, LinearRegression"
   ]
  },
  {
   "cell_type": "code",
   "execution_count": 9,
   "metadata": {},
   "outputs": [
    {
     "data": {
      "text/plain": [
       "(0.8875464071211249, array([ 1.18566165, -0.13711536]))"
      ]
     },
     "execution_count": 9,
     "metadata": {},
     "output_type": "execute_result"
    }
   ],
   "source": [
    "X_train = np.random.multivariate_normal(\n",
    "    mean = [0, 0],\n",
    "    cov  = [[1.0, 0.9], [0.9, 1.0]],\n",
    "    size = 100\n",
    "    )\n",
    "y_train = 1.0 + X_train[:,0] + np.random.normal(\n",
    "    loc = 0.0,\n",
    "    scale = 1.0,\n",
    "    size = 100\n",
    ")\n",
    "SS = StandardScaler()\n",
    "X_train = SS.fit_transform(X_train)\n",
    "\n",
    "RIDGE = Ridge(alpha=1.0)\n",
    "RIDGE.fit(X_train, y_train)\n",
    "RIDGE.intercept_, RIDGE.coef_"
   ]
  },
  {
   "cell_type": "code",
   "execution_count": 11,
   "metadata": {},
   "outputs": [
    {
     "data": {
      "text/plain": [
       "(0.7967547532418298, array([ 1.52682809, -0.59311275]))"
      ]
     },
     "execution_count": 11,
     "metadata": {},
     "output_type": "execute_result"
    }
   ],
   "source": [
    "X_train = np.random.multivariate_normal(mean = [0, 0],\n",
    "                                        cov = [[1.0, 0.9],\n",
    "                                               [0.9, 1.0]],\n",
    "                                        size = 100)\n",
    "y_train = 1.0 + X_train[:, 0] + np.random.normal(loc = 0.0, scale = 1.0, size  = 100)\n",
    "LR = LinearRegression()\n",
    "LR.fit(X_train, y_train)\n",
    "LR.intercept_, LR.coef_"
   ]
  },
  {
   "cell_type": "code",
   "execution_count": 12,
   "metadata": {},
   "outputs": [
    {
     "name": "stdout",
     "output_type": "stream",
     "text": [
      "Ridge [ 1.04890502 -0.00970217] LR [ 1.09532481 -0.05059061]\n",
      "Ridge [0.95311355 0.00194852] LR [ 0.98977207 -0.02957663]\n",
      "Ridge [0.36893986 0.21515396] LR [0.37507941 0.21220479]\n",
      "Ridge [0.83147579 0.16494462] LR [0.86391972 0.13777782]\n",
      "Ridge [ 1.23602399 -0.15847573] LR [ 1.30969881 -0.22648394]\n",
      "Ridge [0.62736904 0.30275939] LR [0.64662444 0.2883905 ]\n",
      "Ridge [0.56122332 0.34575138] LR [0.57212069 0.33969665]\n",
      "Ridge [0.39233105 0.62519509] LR [0.38452731 0.63838518]\n",
      "Ridge [0.71207828 0.28265684] LR [0.7347134  0.26527741]\n",
      "Ridge [ 0.94720653 -0.13400737] LR [ 0.99670984 -0.1791985 ]\n",
      "Ridge 0.05309163912648083 LR 0.0632476667635091\n"
     ]
    }
   ],
   "source": [
    "RIDGEcoef = []\n",
    "LRcoef = []\n",
    "for i in range(10):\n",
    "    X_train = np.random.multivariate_normal(mean = [0, 0],\n",
    "                                        cov = [[1.0, 0.9], [0.9, 1.0]],\n",
    "                                        size = 100)\n",
    "    y_train = 1.0 + X_train[:, 0] + np.random.normal(loc = 0.0, scale = 1.0, size  = 100)\n",
    "    SS = StandardScaler()\n",
    "    X_train = SS.fit_transform(X_train)\n",
    "    RIDGE = Ridge(alpha = 1.0)\n",
    "    RIDGE.fit(X_train,y_train)\n",
    "    LR = LinearRegression()\n",
    "    LR.fit(X_train,y_train)\n",
    "    print(\"Ridge\",RIDGE.coef_,\"LR\",LR.coef_)\n",
    "    RIDGEcoef.append(RIDGE.coef_[1])\n",
    "    LRcoef.append(LR.coef_[1])\n",
    "print(\"Ridge\",np.var(RIDGEcoef),\"LR\",np.var(LRcoef))"
   ]
  },
  {
   "cell_type": "code",
   "execution_count": null,
   "metadata": {},
   "outputs": [],
   "source": []
  }
 ],
 "metadata": {
  "kernelspec": {
   "display_name": "Python 3",
   "language": "python",
   "name": "python3"
  },
  "language_info": {
   "codemirror_mode": {
    "name": "ipython",
    "version": 3
   },
   "file_extension": ".py",
   "mimetype": "text/x-python",
   "name": "python",
   "nbconvert_exporter": "python",
   "pygments_lexer": "ipython3",
   "version": "3.9.15 (main, Nov 24 2022, 08:29:02) \n[Clang 14.0.6 ]"
  },
  "orig_nbformat": 4,
  "vscode": {
   "interpreter": {
    "hash": "c7b63737d34f860a632a8143e822850a892e75196c8e7207c138f17d21e5a1d3"
   }
  }
 },
 "nbformat": 4,
 "nbformat_minor": 2
}
