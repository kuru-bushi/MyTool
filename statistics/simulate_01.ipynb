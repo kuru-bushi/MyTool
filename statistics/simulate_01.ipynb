{
 "cells": [
  {
   "cell_type": "code",
   "execution_count": 6,
   "metadata": {},
   "outputs": [],
   "source": [
    "import numpy as np\n",
    "import pandas as pd\n",
    "import matplotlib.pyplot as plt\n",
    "import statistics"
   ]
  },
  {
   "attachments": {},
   "cell_type": "markdown",
   "metadata": {},
   "source": [
    "### 乱数の生成について記載する\n",
    "- 一様分布、正規分布、二項分布、ベータ分布、ガンマ分布、カイ二乗"
   ]
  },
  {
   "cell_type": "code",
   "execution_count": 8,
   "metadata": {},
   "outputs": [
    {
     "name": "stdout",
     "output_type": "stream",
     "text": [
      "0.8332691360392979\n",
      "[0.29688125 0.65366557 0.94189308]\n",
      "[[0.28028758 0.29590437 0.47886498 0.08282469]\n",
      " [0.91273694 0.64634349 0.9212473  0.43848035]\n",
      " [0.04820003 0.34816554 0.37161915 0.02215439]\n",
      " [0.48418655 0.70052126 0.71316753 0.08229903]]\n",
      "[[[0.9411053  0.56322091]\n",
      "  [0.26025191 0.2111043 ]]\n",
      "\n",
      " [[0.45622784 0.44222559]\n",
      "  [0.21019511 0.24011511]]\n",
      "\n",
      " [[0.65310583 0.63041353]\n",
      "  [0.33344588 0.20674973]]]\n"
     ]
    }
   ],
   "source": [
    "# 正規分布(uniform distribution)\n",
    "rand = np.random.rand()  # 一つの乱数\n",
    "print(rand)\n",
    "# 0.5399711080561779\n",
    "\n",
    "arr = np.random.rand(3)  # サイズが3の配列の乱数\n",
    "print(arr)\n",
    "# [ 0.22393312  0.56723404  0.41167989]\n",
    "\n",
    "arr = np.random.rand(4, 4)  # 4 x 4の配列の乱数\n",
    "print(arr)\n",
    "\n",
    "arr = np.random.rand(3, 2, 2)  # 3 x 2 x 2の配列の乱数\n",
    "print(arr)"
   ]
  },
  {
   "cell_type": "code",
   "execution_count": 9,
   "metadata": {},
   "outputs": [
    {
     "name": "stdout",
     "output_type": "stream",
     "text": [
      "0.6906995285072183\n",
      "[0.92073541 0.01857172 0.72573959]\n",
      "[[0.57654377 0.51534224 0.54689976 0.79966825]\n",
      " [0.56252289 0.5400533  0.00360207 0.25014786]\n",
      " [0.51698707 0.08769214 0.32519398 0.51002147]\n",
      " [0.25081895 0.39547112 0.79724519 0.69688678]]\n",
      "[[[0.52660283 0.91852459]\n",
      "  [0.17236403 0.94426905]]\n",
      "\n",
      " [[0.22023574 0.2526791 ]\n",
      "  [0.4782521  0.88921703]]\n",
      "\n",
      " [[0.88502839 0.59221553]\n",
      "  [0.56435796 0.32960518]]]\n",
      "False\n"
     ]
    }
   ],
   "source": [
    "# 一様分布(uniform distribution)\n",
    "rand = np.random.random_sample()  # 一つの乱数\n",
    "print(rand)\n",
    "# 0.7812294650415362\n",
    "\n",
    "arr = np.random.random_sample(3)  # サイズが3の配列の乱数\n",
    "print(arr)\n",
    "# [ 0.31315625  0.75406842  0.51955327]\n",
    "\n",
    "arr = np.random.random_sample((4, 4))  # 4 x 4の配列の乱数\n",
    "print(arr)\n",
    "# [[ 0.17710988  0.63316992  0.00101942  0.94233375]\n",
    "#  [ 0.9439738   0.58700846  0.97807038  0.56899597]\n",
    "#  [ 0.62050185  0.23601975  0.57513176  0.56947325]\n",
    "#  [ 0.64393715  0.92796497  0.83784537  0.1544701 ]]\n",
    "\n",
    "arr = np.random.random_sample((3, 2, 2))  # 3 x 2 x 2の配列の乱数\n",
    "print(arr)\n",
    "# [[[ 0.26624554  0.33096779]\n",
    "#   [ 0.1814989   0.12867246]]\n",
    "#\n",
    "#  [[ 0.1435755   0.45274324]\n",
    "#   [ 0.12867198  0.98908694]]\n",
    "#\n",
    "#  [[ 0.86989893  0.67003622]\n",
    "#   [ 0.17530006  0.03146698]]]\n",
    "\n",
    "print(np.random.random_sample is np.random.random)\n",
    "# True => np.random.random_sampleとnp.random.randomは同一"
   ]
  },
  {
   "cell_type": "code",
   "execution_count": null,
   "metadata": {},
   "outputs": [],
   "source": [
    "# 二項分布\n"
   ]
  },
  {
   "attachments": {},
   "cell_type": "markdown",
   "metadata": {},
   "source": [
    "# scipy.stats で期待度数、自由度、P値出す"
   ]
  },
  {
   "cell_type": "code",
   "execution_count": 14,
   "metadata": {},
   "outputs": [
    {
     "name": "stdout",
     "output_type": "stream",
     "text": [
      "crs_tb [[  40 1256]\n",
      " [  48 1397]]\n",
      "statカイの二乗値0.12181462608617208\n",
      "p_value0.727074654311451\n",
      "df自由度1\n",
      "exp期待度数[[  41.6081722 1254.3918278]\n",
      " [  46.3918278 1398.6081722]]\n"
     ]
    }
   ],
   "source": [
    "import scipy.stats as ss\n",
    "\n",
    "crs_tb = np.array([[40, 1256], [48, 1397]])\n",
    "print(\"crs_tb\",crs_tb)\n",
    "stat, p_value, df, exp = ss.chi2_contingency(crs_tb, correction=False)\n",
    "# correction=False はイエーツの法則\n",
    "print(f\"statカイの二乗値{stat}\")\n",
    "print(f\"p_value{p_value}\")\n",
    "print(f\"df自由度{df}\")\n",
    "print(f\"exp期待度数{exp}\")"
   ]
  },
  {
   "cell_type": "code",
   "execution_count": 17,
   "metadata": {},
   "outputs": [
    {
     "data": {
      "image/png": "[encoded data removed]",
      "text/plain": [
       "<Figure size 640x480 with 1 Axes>"
      ]
     },
     "metadata": {},
     "output_type": "display_data"
    }
   ],
   "source": [
    "# 広告のクリック率の比較\n",
    "label = [\"old\", \"new\"]\n",
    "plt.bar(x = [1, 2], height = [40/1256*100, 48/1397*100], tick_label = label)\n",
    "plt.title(\"CTR comparison\")\n",
    "plt.show()"
   ]
  },
  {
   "cell_type": "code",
   "execution_count": null,
   "metadata": {},
   "outputs": [],
   "source": []
  },
  {
   "cell_type": "code",
   "execution_count": null,
   "metadata": {},
   "outputs": [],
   "source": []
  }
 ],
 "metadata": {
  "kernelspec": {
   "display_name": "practice2",
   "language": "python",
   "name": "python3"
  },
  "language_info": {
   "codemirror_mode": {
    "name": "ipython",
    "version": 3
   },
   "file_extension": ".py",
   "mimetype": "text/x-python",
   "name": "python",
   "nbconvert_exporter": "python",
   "pygments_lexer": "ipython3",
   "version": "3.9.15 (main, Nov 24 2022, 08:29:02) \n[Clang 14.0.6 ]"
  },
  "orig_nbformat": 4,
  "vscode": {
   "interpreter": {
    "hash": "c7b63737d34f860a632a8143e822850a892e75196c8e7207c138f17d21e5a1d3"
   }
  }
 },
 "nbformat": 4,
 "nbformat_minor": 2
}
