{
 "cells": [
  {
   "cell_type": "code",
   "execution_count": 1,
   "metadata": {},
   "outputs": [
    {
     "ename": "ModuleNotFoundError",
     "evalue": "No module named 'pytransform3d'",
     "output_type": "error",
     "traceback": [
      "\u001b[0;31m---------------------------------------------------------------------------\u001b[0m",
      "\u001b[0;31mModuleNotFoundError\u001b[0m                       Traceback (most recent call last)",
      "Cell \u001b[0;32mIn[1], line 3\u001b[0m\n\u001b[1;32m      1\u001b[0m \u001b[39mimport\u001b[39;00m \u001b[39mnumpy\u001b[39;00m \u001b[39mas\u001b[39;00m \u001b[39mnp\u001b[39;00m\n\u001b[1;32m      2\u001b[0m \u001b[39mimport\u001b[39;00m \u001b[39mmatplotlib\u001b[39;00m\u001b[39m.\u001b[39;00m\u001b[39mpyplot\u001b[39;00m \u001b[39mas\u001b[39;00m \u001b[39mplt\u001b[39;00m\n\u001b[0;32m----> 3\u001b[0m \u001b[39mfrom\u001b[39;00m \u001b[39mutils\u001b[39;00m \u001b[39mimport\u001b[39;00m \u001b[39m*\u001b[39m\n\u001b[1;32m      4\u001b[0m np\u001b[39m.\u001b[39mrandom\u001b[39m.\u001b[39mseed(\u001b[39m42\u001b[39m)\n",
      "File \u001b[0;32m~/Desktop/Git/MyTool/stitching/utils.py:4\u001b[0m\n\u001b[1;32m      2\u001b[0m \u001b[39mimport\u001b[39;00m \u001b[39mnumpy\u001b[39;00m \u001b[39mas\u001b[39;00m \u001b[39mnp\u001b[39;00m\n\u001b[0;32m----> 4\u001b[0m \u001b[39mimport\u001b[39;00m \u001b[39mpytransform3d\u001b[39;00m\u001b[39m.\u001b[39;00m\u001b[39mrotations\u001b[39;00m \u001b[39mas\u001b[39;00m \u001b[39mpr\u001b[39;00m\n\u001b[1;32m      5\u001b[0m \u001b[39mfrom\u001b[39;00m \u001b[39mpytransform3d\u001b[39;00m\u001b[39m.\u001b[39;00m\u001b[39mplot_utils\u001b[39;00m \u001b[39mimport\u001b[39;00m plot_vector\n\u001b[1;32m      7\u001b[0m \u001b[39m# constants\u001b[39;00m\n",
      "\u001b[0;31mModuleNotFoundError\u001b[0m: No module named 'pytransform3d'"
     ]
    }
   ],
   "source": [
    "import numpy as np\n",
    "import matplotlib.pyplot as plt\n",
    "from utils import *\n",
    "np.random.seed(42)"
   ]
  },
  {
   "cell_type": "code",
   "execution_count": 2,
   "metadata": {},
   "outputs": [],
   "source": [
    "# define extrinsic parameters\n",
    "# -------------------------------\n",
    "\n",
    "# rotate an angle of pi/4 along the standard Y axis\n",
    "angles = [np.pi/4]\n",
    "order = 'y'\n",
    "\n",
    "# transalte by the given offset\n",
    "offset = np.array([0, -8, 0])\n",
    "\n",
    "# define intrinsic parameters\n",
    "# -------------------------------\n",
    "\n",
    "f = 2\n",
    "s = 0\n",
    "a = 1\n",
    "cx = 0\n",
    "cy = 0\n",
    "img_size = (10, 10)\n"
   ]
  },
  {
   "cell_type": "code",
   "execution_count": 4,
   "metadata": {},
   "outputs": [
    {
     "ename": "NameError",
     "evalue": "name 'create_rotation_transformation_matrix' is not defined",
     "output_type": "error",
     "traceback": [
      "\u001b[0;31m---------------------------------------------------------------------------\u001b[0m",
      "\u001b[0;31mNameError\u001b[0m                                 Traceback (most recent call last)",
      "Cell \u001b[0;32mIn[4], line 5\u001b[0m\n\u001b[1;32m      1\u001b[0m \u001b[39m# create extrinsic matrix\u001b[39;00m\n\u001b[1;32m      2\u001b[0m \u001b[39m# --------------------------\u001b[39;00m\n\u001b[1;32m      3\u001b[0m \n\u001b[1;32m      4\u001b[0m \u001b[39m# create rotation transformation matrix\u001b[39;00m\n\u001b[0;32m----> 5\u001b[0m R \u001b[39m=\u001b[39m create_rotation_transformation_matrix(angles, order)\n\u001b[1;32m      6\u001b[0m R_ \u001b[39m=\u001b[39m np\u001b[39m.\u001b[39midentity(\u001b[39m4\u001b[39m)\n\u001b[1;32m      7\u001b[0m R_[:\u001b[39m3\u001b[39m, :\u001b[39m3\u001b[39m] \u001b[39m=\u001b[39m R\n",
      "\u001b[0;31mNameError\u001b[0m: name 'create_rotation_transformation_matrix' is not defined"
     ]
    }
   ],
   "source": [
    "# create extrinsic matrix\n",
    "# --------------------------\n",
    "\n",
    "# create rotation transformation matrix\n",
    "R = create_rotation_transformation_matrix(angles, order)\n",
    "R_ = np.identity(4)\n",
    "R_[:3, :3] = R\n",
    "\n",
    "# create translation transformation matrix\n",
    "T_ = create_translation_matrix(offset)\n",
    "\n",
    "E = np.linalg.inv(R_ @ T_)\n",
    "E = E[:-1, :]\n",
    "\n",
    "# create intrinsic matrix\n",
    "# ---------------------------\n",
    "K = compute_intrinsic_parameter_matrix(f, s, a, cx, cy)"
   ]
  },
  {
   "cell_type": "code",
   "execution_count": 3,
   "metadata": {},
   "outputs": [
    {
     "ename": "NameError",
     "evalue": "name 'generate_random_points' is not defined",
     "output_type": "error",
     "traceback": [
      "\u001b[0;31m---------------------------------------------------------------------------\u001b[0m",
      "\u001b[0;31mNameError\u001b[0m                                 Traceback (most recent call last)",
      "Cell \u001b[0;32mIn[3], line 4\u001b[0m\n\u001b[1;32m      1\u001b[0m \u001b[39m# choose the lower limit of the points such they're always beyond the image plane\u001b[39;00m\n\u001b[1;32m      3\u001b[0m n_points \u001b[39m=\u001b[39m \u001b[39m12\u001b[39m\n\u001b[0;32m----> 4\u001b[0m rand_points \u001b[39m=\u001b[39m generate_random_points(n_points, (\u001b[39m-\u001b[39m\u001b[39m10\u001b[39m, \u001b[39m0\u001b[39m), (\u001b[39m-\u001b[39m\u001b[39m10\u001b[39m, \u001b[39m10\u001b[39m), (f, \u001b[39m10\u001b[39m))\n",
      "\u001b[0;31mNameError\u001b[0m: name 'generate_random_points' is not defined"
     ]
    }
   ],
   "source": [
    "# choose the lower limit of the points such they're always beyond the image plane\n",
    "\n",
    "n_points = 12\n",
    "rand_points = generate_random_points(n_points, (-10, 0), (-10, 10), (f, 10))"
   ]
  },
  {
   "cell_type": "code",
   "execution_count": null,
   "metadata": {},
   "outputs": [],
   "source": []
  }
 ],
 "metadata": {
  "kernelspec": {
   "display_name": "stitching",
   "language": "python",
   "name": "python3"
  },
  "language_info": {
   "codemirror_mode": {
    "name": "ipython",
    "version": 3
   },
   "file_extension": ".py",
   "mimetype": "text/x-python",
   "name": "python",
   "nbconvert_exporter": "python",
   "pygments_lexer": "ipython3",
   "version": "3.9.7"
  },
  "orig_nbformat": 4
 },
 "nbformat": 4,
 "nbformat_minor": 2
}
